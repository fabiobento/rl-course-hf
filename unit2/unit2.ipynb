{
  "cells": [
    {
      "cell_type": "markdown",
      "metadata": {
        "colab_type": "text",
        "id": "view-in-github"
      },
      "source": [
        "<table align=\"left\">\n",
        "  <td>\n",
        "    <a href=\"https://colab.research.google.com/github/fabiobento/rl-course-hf/blob/main/unit2/unit2.ipynb\" target=\"_parent\"><img src=\"https://colab.research.google.com/assets/colab-badge.svg\" alt=\"Open In Colab\"/></a>\n",
        "  </td>\n",
        "  <td>\n",
        "    <a target=\"_blank\" href=\"https://kaggle.com/kernels/welcome?src=https://github.com/fabiobento/rl-course-hf/blob/main/unit2/unit2.ipynb\"><img src=\"https://kaggle.com/static/images/open-in-kaggle.svg\" /></a>\n",
        "  </td>\n",
        "</table>"
      ]
    },
    {
      "cell_type": "markdown",
      "metadata": {
        "id": "njb_ProuHiOe"
      },
      "source": [
        "# Unit 2: Q-Learning with FrozenLake-v1 ⛄ and Taxi-v3 🚕\n",
        "\n",
        "In this notebook, **you'll code your first Reinforcement Learning agent from scratch** to play FrozenLake ❄️ using Q-Learning, share it with the community, and experiment with different configurations.\n",
        "\n",
        "⬇️ Here is an example of what **you will achieve in just a couple of minutes.** ⬇️\n"
      ]
    },
    {
      "cell_type": "markdown",
      "metadata": {
        "id": "DPTBOv9HYLZ2"
      },
      "source": [
        "###🎮 Environments:\n",
        "\n",
        "- [FrozenLake-v1](https://gymnasium.farama.org/environments/toy_text/frozen_lake/)\n",
        "- [Taxi-v3](https://gymnasium.farama.org/environments/toy_text/taxi/)\n",
        "\n",
        "###📚 RL-Library:\n",
        "\n",
        "- Python and NumPy\n",
        "- [Gymnasium](https://gymnasium.farama.org/)\n",
        "\n",
        "We're constantly trying to improve our tutorials, so **if you find some issues in this notebook**, please [open an issue on the GitHub Repo](https://github.com/huggingface/deep-rl-class/issues)."
      ]
    },
    {
      "cell_type": "markdown",
      "metadata": {
        "id": "f2ONOODsyrMU"
      },
      "source": [
        "## A small recap of Q-Learning"
      ]
    },
    {
      "cell_type": "markdown",
      "metadata": {
        "id": "V68VveLacfxJ"
      },
      "source": [
        "*Q-Learning* **is the RL algorithm that**:\n",
        "\n",
        "- Trains *Q-Function*, an **action-value function** that encoded, in internal memory, by a *Q-table* **that contains all the state-action pair values.**\n",
        "\n",
        "- Given a state and action, our Q-Function **will search the Q-table for the corresponding value.**\n",
        "    \n",
        "<img src=\"https://huggingface.co/datasets/huggingface-deep-rl-course/course-images/resolve/main/en/unit3/Q-function-2.jpg\" alt=\"Q function\"  width=\"100%\"/>\n",
        "\n",
        "- When the training is done,**we have an optimal Q-Function, so an optimal Q-Table.**\n",
        "    \n",
        "- And if we **have an optimal Q-function**, we\n",
        "have an optimal policy, since we **know for, each state, the best action to take.**\n",
        "\n",
        "<img src=\"https://huggingface.co/datasets/huggingface-deep-rl-course/course-images/resolve/main/en/unit3/link-value-policy.jpg\" alt=\"Link value policy\"  width=\"100%\"/>\n",
        "\n",
        "\n",
        "But, in the beginning, our **Q-Table is useless since it gives arbitrary value for each state-action pair (most of the time we initialize the Q-Table to 0 values)**. But, as we’ll explore the environment and update our Q-Table it will give us better and better approximations\n",
        "\n",
        "<img src=\"https://huggingface.co/datasets/huggingface-deep-rl-course/course-images/resolve/main/en/notebooks/unit2/q-learning.jpeg\" alt=\"q-learning.jpeg\" width=\"100%\"/>\n",
        "\n",
        "This is the Q-Learning pseudocode:\n",
        "\n",
        "<img src=\"https://huggingface.co/datasets/huggingface-deep-rl-course/course-images/resolve/main/en/unit3/Q-learning-2.jpg\" alt=\"Q-Learning\" width=\"100%\"/>\n"
      ]
    },
    {
      "cell_type": "markdown",
      "metadata": {
        "id": "HEtx8Y8MqKfH"
      },
      "source": [
        "# Let's code our first Reinforcement Learning algorithm 🚀"
      ]
    },
    {
      "cell_type": "markdown",
      "metadata": {
        "id": "Kdxb1IhzTn0v"
      },
      "source": [
        "To validate this hands-on for the [certification process](https://huggingface.co/deep-rl-course/en/unit0/introduction#certification-process), you need to push your trained Taxi model to the Hub and **get a result of >= 4.5**.\n",
        "\n",
        "To find your result, go to the [leaderboard](https://huggingface.co/spaces/huggingface-projects/Deep-Reinforcement-Learning-Leaderboard) and find your model, **the result = mean_reward - std of reward**\n",
        "\n",
        "For more information about the certification process, check this section 👉 https://huggingface.co/deep-rl-course/en/unit0/introduction#certification-process"
      ]
    },
    {
      "cell_type": "markdown",
      "metadata": {
        "id": "4gpxC1_kqUYe"
      },
      "source": [
        "## Install dependencies and create a virtual display 🔽\n",
        "\n",
        "In the notebook, we'll need to generate a replay video. To do so, with Colab, **we need to have a virtual screen to render the environment** (and thus record the frames).\n",
        "\n",
        "Hence the following cell will install the libraries and create and run a virtual screen 🖥\n",
        "\n",
        "We’ll install multiple ones:\n",
        "\n",
        "- `gymnasium`: Contains the FrozenLake-v1 ⛄ and Taxi-v3 🚕 environments.\n",
        "- `pygame`: Used for the FrozenLake-v1 and Taxi-v3 UI.\n",
        "- `numpy`: Used for handling our Q-table.\n",
        "\n",
        "The Hugging Face Hub 🤗 works as a central place where anyone can share and explore models and datasets. It has versioning, metrics, visualizations and other features that will allow you to easily collaborate with others.\n",
        "\n",
        "You can see here all the Deep RL models available (if they use Q Learning) here 👉 https://huggingface.co/models?other=q-learning"
      ]
    },
    {
      "cell_type": "code",
      "execution_count": 5,
      "metadata": {
        "id": "9XaULfDZDvrC"
      },
      "outputs": [
        {
          "name": "stdout",
          "output_type": "stream",
          "text": [
            "Ignoring pickle5: markers 'python_version < \"3.8\"' don't match your environment\n",
            "Requirement already satisfied: gymnasium in /home/fabio/anaconda3/envs/dnn-25.1/lib/python3.12/site-packages (from -r requirements-unit2.txt (line 1)) (0.28.1)\n",
            "Requirement already satisfied: pygame in /home/fabio/anaconda3/envs/dnn-25.1/lib/python3.12/site-packages (from -r requirements-unit2.txt (line 2)) (2.6.1)\n",
            "Requirement already satisfied: numpy in /home/fabio/anaconda3/envs/dnn-25.1/lib/python3.12/site-packages (from -r requirements-unit2.txt (line 3)) (1.26.4)\n",
            "Requirement already satisfied: huggingface_hub in /home/fabio/anaconda3/envs/dnn-25.1/lib/python3.12/site-packages (from -r requirements-unit2.txt (line 5)) (0.31.4)\n",
            "Requirement already satisfied: pyyaml<7.0,>=6.0.1 in /home/fabio/anaconda3/envs/dnn-25.1/lib/python3.12/site-packages (from -r requirements-unit2.txt (line 7)) (6.0.2)\n",
            "Requirement already satisfied: imageio in /home/fabio/anaconda3/envs/dnn-25.1/lib/python3.12/site-packages (from -r requirements-unit2.txt (line 8)) (2.37.0)\n",
            "Requirement already satisfied: imageio_ffmpeg in /home/fabio/anaconda3/envs/dnn-25.1/lib/python3.12/site-packages (from -r requirements-unit2.txt (line 9)) (0.6.0)\n",
            "Collecting pyglet==1.5.1 (from -r requirements-unit2.txt (line 10))\n",
            "  Using cached pyglet-1.5.1-py2.py3-none-any.whl.metadata (7.6 kB)\n",
            "Requirement already satisfied: tqdm in /home/fabio/anaconda3/envs/dnn-25.1/lib/python3.12/site-packages (from -r requirements-unit2.txt (line 11)) (4.67.1)\n",
            "Requirement already satisfied: jax-jumpy>=1.0.0 in /home/fabio/anaconda3/envs/dnn-25.1/lib/python3.12/site-packages (from gymnasium->-r requirements-unit2.txt (line 1)) (1.0.0)\n",
            "Requirement already satisfied: cloudpickle>=1.2.0 in /home/fabio/anaconda3/envs/dnn-25.1/lib/python3.12/site-packages (from gymnasium->-r requirements-unit2.txt (line 1)) (3.1.1)\n",
            "Requirement already satisfied: typing-extensions>=4.3.0 in /home/fabio/anaconda3/envs/dnn-25.1/lib/python3.12/site-packages (from gymnasium->-r requirements-unit2.txt (line 1)) (4.12.2)\n",
            "Requirement already satisfied: farama-notifications>=0.0.1 in /home/fabio/anaconda3/envs/dnn-25.1/lib/python3.12/site-packages (from gymnasium->-r requirements-unit2.txt (line 1)) (0.0.4)\n",
            "Requirement already satisfied: filelock in /home/fabio/anaconda3/envs/dnn-25.1/lib/python3.12/site-packages (from huggingface_hub->-r requirements-unit2.txt (line 5)) (3.17.0)\n",
            "Requirement already satisfied: fsspec>=2023.5.0 in /home/fabio/anaconda3/envs/dnn-25.1/lib/python3.12/site-packages (from huggingface_hub->-r requirements-unit2.txt (line 5)) (2025.3.2)\n",
            "Requirement already satisfied: packaging>=20.9 in /home/fabio/anaconda3/envs/dnn-25.1/lib/python3.12/site-packages (from huggingface_hub->-r requirements-unit2.txt (line 5)) (24.2)\n",
            "Requirement already satisfied: requests in /home/fabio/anaconda3/envs/dnn-25.1/lib/python3.12/site-packages (from huggingface_hub->-r requirements-unit2.txt (line 5)) (2.32.3)\n",
            "Requirement already satisfied: pillow>=8.3.2 in /home/fabio/anaconda3/envs/dnn-25.1/lib/python3.12/site-packages (from imageio->-r requirements-unit2.txt (line 8)) (11.1.0)\n",
            "Requirement already satisfied: charset-normalizer<4,>=2 in /home/fabio/anaconda3/envs/dnn-25.1/lib/python3.12/site-packages (from requests->huggingface_hub->-r requirements-unit2.txt (line 5)) (3.3.2)\n",
            "Requirement already satisfied: idna<4,>=2.5 in /home/fabio/anaconda3/envs/dnn-25.1/lib/python3.12/site-packages (from requests->huggingface_hub->-r requirements-unit2.txt (line 5)) (3.7)\n",
            "Requirement already satisfied: urllib3<3,>=1.21.1 in /home/fabio/anaconda3/envs/dnn-25.1/lib/python3.12/site-packages (from requests->huggingface_hub->-r requirements-unit2.txt (line 5)) (2.3.0)\n",
            "Requirement already satisfied: certifi>=2017.4.17 in /home/fabio/anaconda3/envs/dnn-25.1/lib/python3.12/site-packages (from requests->huggingface_hub->-r requirements-unit2.txt (line 5)) (2025.4.26)\n",
            "Using cached pyglet-1.5.1-py2.py3-none-any.whl (1.0 MB)\n",
            "Installing collected packages: pyglet\n",
            "Successfully installed pyglet-1.5.1\n"
          ]
        }
      ],
      "source": [
        "!pip install -r requirements-unit2.txt"
      ]
    },
    {
      "cell_type": "markdown",
      "metadata": {
        "id": "W-7f-Swax_9x"
      },
      "source": [
        "## Import the packages 📦\n",
        "\n",
        "In addition to the installed libraries, we also use:\n",
        "\n",
        "- `random`: To generate random numbers (that will be useful for epsilon-greedy policy).\n",
        "- `imageio`: To generate a replay video."
      ]
    },
    {
      "cell_type": "code",
      "execution_count": 9,
      "metadata": {
        "id": "VcNvOAQlysBJ"
      },
      "outputs": [],
      "source": [
        "import numpy as np\n",
        "import gymnasium as gym\n",
        "import random\n",
        "import imageio\n",
        "import os\n",
        "import tqdm\n",
        "\n",
        "import pickle\n",
        "from tqdm.notebook import tqdm"
      ]
    },
    {
      "cell_type": "markdown",
      "metadata": {
        "id": "xp4-bXKIy1mQ"
      },
      "source": [
        "We're now ready to code our Q-Learning algorithm 🔥"
      ]
    },
    {
      "cell_type": "markdown",
      "metadata": {
        "id": "xya49aNJWVvv"
      },
      "source": [
        "# Part 1: Frozen Lake ⛄ (non slippery version)"
      ]
    },
    {
      "cell_type": "markdown",
      "metadata": {
        "id": "NAvihuHdy9tw"
      },
      "source": [
        "## Create and understand [FrozenLake environment ⛄]((https://gymnasium.farama.org/environments/toy_text/frozen_lake/)\n",
        "---\n",
        "\n",
        "💡 A good habit when you start to use an environment is to check its documentation\n",
        "\n",
        "👉 https://gymnasium.farama.org/environments/toy_text/frozen_lake/\n",
        "\n",
        "---\n",
        "\n",
        "We're going to train our Q-Learning agent **to navigate from the starting state (S) to the goal state (G) by walking only on frozen tiles (F) and avoid holes (H)**.\n",
        "\n",
        "We can have two sizes of environment:\n",
        "\n",
        "- `map_name=\"4x4\"`: a 4x4 grid version\n",
        "- `map_name=\"8x8\"`: a 8x8 grid version\n",
        "\n",
        "\n",
        "The environment has two modes:\n",
        "\n",
        "- `is_slippery=False`: The agent always moves **in the intended direction** due to the non-slippery nature of the frozen lake (deterministic).\n",
        "- `is_slippery=True`: The agent **may not always move in the intended direction** due to the slippery nature of the frozen lake (stochastic)."
      ]
    },
    {
      "cell_type": "markdown",
      "metadata": {
        "id": "UaW_LHfS0PY2"
      },
      "source": [
        "For now let's keep it simple with the 4x4 map and non-slippery.\n",
        "We add a parameter called `render_mode` that specifies how the environment should be visualised. In our case because we **want to record a video of the environment at the end, we need to set render_mode to rgb_array**.\n",
        "\n",
        "As [explained in the documentation](https://gymnasium.farama.org/api/env/#gymnasium.Env.render) “rgb_array”: Return a single frame representing the current state of the environment. A frame is a np.ndarray with shape (x, y, 3) representing RGB values for an x-by-y pixel image."
      ]
    },
    {
      "cell_type": "code",
      "execution_count": 11,
      "metadata": {
        "id": "jNxUbPMP0akP"
      },
      "outputs": [],
      "source": [
        "env = gym.make(\"FrozenLake-v1\", map_name=\"4x4\", is_slippery=False, render_mode=\"rgb_array\")"
      ]
    },
    {
      "cell_type": "markdown",
      "metadata": {
        "id": "KASNViqL4tZn"
      },
      "source": [
        "You can create your own custom grid like this:\n",
        "\n",
        "```python\n",
        "desc=[\"SFFF\", \"FHFH\", \"FFFH\", \"HFFG\"]\n",
        "gym.make('FrozenLake-v1', desc=desc, is_slippery=True)\n",
        "```\n",
        "\n",
        "but we'll use the default environment for now."
      ]
    },
    {
      "cell_type": "markdown",
      "metadata": {
        "id": "SXbTfdeJ1Xi9"
      },
      "source": [
        "### Let's see what the Environment looks like:\n"
      ]
    },
    {
      "cell_type": "code",
      "execution_count": 12,
      "metadata": {
        "id": "ZNPG0g_UGCfh"
      },
      "outputs": [
        {
          "name": "stdout",
          "output_type": "stream",
          "text": [
            "_____OBSERVATION SPACE_____ \n",
            "\n",
            "Observation Space Discrete(16)\n",
            "Sample observation 14\n"
          ]
        }
      ],
      "source": [
        "# We create our environment with gym.make(\"<name_of_the_environment>\")- `is_slippery=False`: The agent always moves in the intended direction due to the non-slippery nature of the frozen lake (deterministic).\n",
        "print(\"_____OBSERVATION SPACE_____ \\n\")\n",
        "print(\"Observation Space\", env.observation_space)\n",
        "print(\"Sample observation\", env.observation_space.sample()) # Get a random observation"
      ]
    },
    {
      "cell_type": "markdown",
      "metadata": {
        "id": "2MXc15qFE0M9"
      },
      "source": [
        "We see with `Observation Space Shape Discrete(16)` that the observation is an integer representing the **agent’s current position as current_row * ncols + current_col (where both the row and col start at 0)**.\n",
        "\n",
        "For example, the goal position in the 4x4 map can be calculated as follows: 3 * 4 + 3 = 15. The number of possible observations is dependent on the size of the map. **For example, the 4x4 map has 16 possible observations.**\n",
        "\n",
        "\n",
        "For instance, this is what state = 0 looks like:\n",
        "\n",
        "<img src=\"https://huggingface.co/datasets/huggingface-deep-rl-course/course-images/resolve/main/en/notebooks/unit2/frozenlake.png\" alt=\"FrozenLake\">"
      ]
    },
    {
      "cell_type": "code",
      "execution_count": 13,
      "metadata": {
        "id": "We5WqOBGLoSm"
      },
      "outputs": [
        {
          "name": "stdout",
          "output_type": "stream",
          "text": [
            "\n",
            " _____ACTION SPACE_____ \n",
            "\n",
            "Action Space Shape 4\n",
            "Action Space Sample 0\n"
          ]
        }
      ],
      "source": [
        "print(\"\\n _____ACTION SPACE_____ \\n\")\n",
        "print(\"Action Space Shape\", env.action_space.n)\n",
        "print(\"Action Space Sample\", env.action_space.sample()) # Take a random action"
      ]
    },
    {
      "cell_type": "markdown",
      "metadata": {
        "id": "MyxXwkI2Magx"
      },
      "source": [
        "The action space (the set of possible actions the agent can take) is discrete with 4 actions available 🎮:\n",
        "- 0: GO LEFT\n",
        "- 1: GO DOWN\n",
        "- 2: GO RIGHT\n",
        "- 3: GO UP\n",
        "\n",
        "Reward function 💰:\n",
        "- Reach goal: +1\n",
        "- Reach hole: 0\n",
        "- Reach frozen: 0"
      ]
    },
    {
      "cell_type": "markdown",
      "metadata": {
        "id": "1pFhWblk3Awr"
      },
      "source": [
        "## Create and Initialize the Q-table 🗄️\n",
        "\n",
        "(👀 Step 1 of the pseudocode)\n",
        "\n",
        "<img src=\"https://huggingface.co/datasets/huggingface-deep-rl-course/course-images/resolve/main/en/unit3/Q-learning-2.jpg\" alt=\"Q-Learning\" width=\"100%\"/>\n",
        "\n",
        "\n",
        "It's time to initialize our Q-table! To know how many rows (states) and columns (actions) to use, we need to know the action and observation space. We already know their values from before, but we'll want to obtain them programmatically so that our algorithm generalizes for different environments. Gym provides us a way to do that: `env.action_space.n` and `env.observation_space.n`\n"
      ]
    },
    {
      "cell_type": "markdown",
      "metadata": {
        "id": "67OdoKL63eDD"
      },
      "source": [
        "### Solution"
      ]
    },
    {
      "cell_type": "code",
      "execution_count": 15,
      "metadata": {
        "id": "HuTKv3th3ohG"
      },
      "outputs": [
        {
          "name": "stdout",
          "output_type": "stream",
          "text": [
            "There are  16  possible states\n",
            "There are  4  possible actions\n"
          ]
        }
      ],
      "source": [
        "state_space = env.observation_space.n\n",
        "print(\"There are \", state_space, \" possible states\")\n",
        "\n",
        "action_space = env.action_space.n\n",
        "print(\"There are \", action_space, \" possible actions\")"
      ]
    },
    {
      "cell_type": "code",
      "execution_count": 16,
      "metadata": {
        "id": "lnrb_nX33fJo"
      },
      "outputs": [],
      "source": [
        "# Let's create our Qtable of size (state_space, action_space) and initialized each values at 0 using np.zeros\n",
        "def initialize_q_table(state_space, action_space):\n",
        "  Qtable = np.zeros((state_space, action_space))\n",
        "  return Qtable"
      ]
    },
    {
      "cell_type": "code",
      "execution_count": 17,
      "metadata": {
        "id": "Y0WlgkVO3Jf9"
      },
      "outputs": [],
      "source": [
        "Qtable_frozenlake = initialize_q_table(state_space, action_space)"
      ]
    },
    {
      "cell_type": "markdown",
      "metadata": {
        "id": "Atll4Z774gri"
      },
      "source": [
        "## Define the greedy policy 🤖\n",
        "\n",
        "Remember we have two policies since Q-Learning is an **off-policy** algorithm. This means we're using a **different policy for acting and updating the value function**.\n",
        "\n",
        "- Epsilon-greedy policy (acting policy)\n",
        "- Greedy-policy (updating policy)\n",
        "\n",
        "The greedy policy will also be the final policy we'll have when the Q-learning agent completes training. The greedy policy is used to select an action using the Q-table.\n",
        "\n",
        "<img src=\"https://huggingface.co/datasets/huggingface-deep-rl-course/course-images/resolve/main/en/unit3/off-on-4.jpg\" alt=\"Q-Learning\" width=\"100%\"/>\n"
      ]
    },
    {
      "cell_type": "code",
      "execution_count": 19,
      "metadata": {
        "id": "se2OzWGW5kYJ"
      },
      "outputs": [],
      "source": [
        "def greedy_policy(Qtable, state):\n",
        "  # Exploitation: take the action with the highest state, action value\n",
        "  action = np.argmax(Qtable[state][:])\n",
        "\n",
        "  return action"
      ]
    },
    {
      "cell_type": "markdown",
      "metadata": {
        "id": "flILKhBU3yZ7"
      },
      "source": [
        "##Define the epsilon-greedy policy 🤖\n",
        "\n",
        "Epsilon-greedy is the training policy that handles the exploration/exploitation trade-off.\n",
        "\n",
        "The idea with epsilon-greedy:\n",
        "\n",
        "- With *probability 1 - ɛ* : **we do exploitation** (i.e. our agent selects the action with the highest state-action pair value).\n",
        "\n",
        "- With *probability ɛ*: we do **exploration** (trying a random action).\n",
        "\n",
        "As the training continues, we progressively **reduce the epsilon value since we will need less and less exploration and more exploitation.**\n",
        "\n",
        "<img src=\"https://huggingface.co/datasets/huggingface-deep-rl-course/course-images/resolve/main/en/unit3/Q-learning-4.jpg\" alt=\"Q-Learning\" width=\"100%\"/>\n"
      ]
    },
    {
      "cell_type": "code",
      "execution_count": 20,
      "metadata": {
        "id": "cYxHuckr4LiG"
      },
      "outputs": [],
      "source": [
        "def epsilon_greedy_policy(Qtable, state, epsilon):\n",
        "  # Randomly generate a number between 0 and 1\n",
        "  random_num = random.uniform(0,1)\n",
        "  # if random_num > greater than epsilon --> exploitation\n",
        "  if random_num > epsilon:\n",
        "    # Take the action with the highest value given a state\n",
        "    # np.argmax can be useful here\n",
        "    action = greedy_policy(Qtable, state)\n",
        "  # else --> exploration\n",
        "  else:\n",
        "    action = env.action_space.sample()\n",
        "\n",
        "  return action"
      ]
    },
    {
      "cell_type": "markdown",
      "metadata": {
        "id": "hW80DealcRtu"
      },
      "source": [
        "## Define the hyperparameters ⚙️\n",
        "\n",
        "The exploration related hyperparamters are some of the most important ones.\n",
        "\n",
        "- We need to make sure that our agent **explores enough of the state space** to learn a good value approximation. To do that, we need to have progressive decay of the epsilon.\n",
        "- If you decrease epsilon too fast (too high decay_rate), **you take the risk that your agent will be stuck**, since your agent didn't explore enough of the state space and hence can't solve the problem."
      ]
    },
    {
      "cell_type": "code",
      "execution_count": 21,
      "metadata": {
        "id": "Y1tWn0tycWZ1"
      },
      "outputs": [],
      "source": [
        "# Training parameters\n",
        "n_training_episodes = 10000  # Total training episodes\n",
        "learning_rate = 0.7          # Learning rate\n",
        "\n",
        "# Evaluation parameters\n",
        "n_eval_episodes = 100        # Total number of test episodes\n",
        "\n",
        "# Environment parameters\n",
        "env_id = \"FrozenLake-v1\"     # Name of the environment\n",
        "max_steps = 99               # Max steps per episode\n",
        "gamma = 0.95                 # Discounting rate\n",
        "eval_seed = []               # The evaluation seed of the environment\n",
        "\n",
        "# Exploration parameters\n",
        "max_epsilon = 1.0             # Exploration probability at start\n",
        "min_epsilon = 0.05            # Minimum exploration probability\n",
        "decay_rate = 0.0005            # Exponential decay rate for exploration prob"
      ]
    },
    {
      "cell_type": "markdown",
      "metadata": {
        "id": "cDb7Tdx8atfL"
      },
      "source": [
        "## Create the training loop method\n",
        "\n",
        "<img src=\"https://huggingface.co/datasets/huggingface-deep-rl-course/course-images/resolve/main/en/unit3/Q-learning-2.jpg\" alt=\"Q-Learning\" width=\"100%\"/>\n",
        "\n",
        "The training loop goes like this:\n",
        "\n",
        "```\n",
        "For episode in the total of training episodes:\n",
        "\n",
        "Reduce epsilon (since we need less and less exploration)\n",
        "Reset the environment\n",
        "\n",
        "  For step in max timesteps:    \n",
        "    Choose the action At using epsilon greedy policy\n",
        "    Take the action (a) and observe the outcome state(s') and reward (r)\n",
        "    Update the Q-value Q(s,a) using Bellman equation Q(s,a) + lr [R(s,a) + gamma * max Q(s',a') - Q(s,a)]\n",
        "    If done, finish the episode\n",
        "    Our next state is the new state\n",
        "```"
      ]
    },
    {
      "cell_type": "code",
      "execution_count": 22,
      "metadata": {
        "id": "IyZaYbUAeolw"
      },
      "outputs": [],
      "source": [
        "def train(n_training_episodes, min_epsilon, max_epsilon, decay_rate, env, max_steps, Qtable):\n",
        "  for episode in tqdm(range(n_training_episodes)):\n",
        "    # Reduce epsilon (because we need less and less exploration)\n",
        "    epsilon = min_epsilon + (max_epsilon - min_epsilon)*np.exp(-decay_rate*episode)\n",
        "    # Reset the environment\n",
        "    state, info = env.reset()\n",
        "    step = 0\n",
        "    terminated = False\n",
        "    truncated = False\n",
        "\n",
        "    # repeat\n",
        "    for step in range(max_steps):\n",
        "      # Choose the action At using epsilon greedy policy\n",
        "      action = epsilon_greedy_policy(Qtable, state, epsilon)\n",
        "\n",
        "      # Take action At and observe Rt+1 and St+1\n",
        "      # Take the action (a) and observe the outcome state(s') and reward (r)\n",
        "      new_state, reward, terminated, truncated, info = env.step(action)\n",
        "\n",
        "      # Update Q(s,a):= Q(s,a) + lr [R(s,a) + gamma * max Q(s',a') - Q(s,a)]\n",
        "      Qtable[state][action] = Qtable[state][action] + learning_rate * (reward + gamma * np.max(Qtable[new_state]) - Qtable[state][action])\n",
        "\n",
        "      # If terminated or truncated finish the episode\n",
        "      if terminated or truncated:\n",
        "        break\n",
        "\n",
        "      # Our next state is the new state\n",
        "      state = new_state\n",
        "  return Qtable"
      ]
    },
    {
      "cell_type": "markdown",
      "metadata": {
        "id": "WLwKQ4tUdhGI"
      },
      "source": [
        "## Train the Q-Learning agent 🏃"
      ]
    },
    {
      "cell_type": "code",
      "execution_count": 23,
      "metadata": {
        "id": "DPBxfjJdTCOH"
      },
      "outputs": [
        {
          "data": {
            "application/vnd.jupyter.widget-view+json": {
              "model_id": "2e2331d8ca6d4f87a61a1a77d101af1b",
              "version_major": 2,
              "version_minor": 0
            },
            "text/plain": [
              "  0%|          | 0/10000 [00:00<?, ?it/s]"
            ]
          },
          "metadata": {},
          "output_type": "display_data"
        }
      ],
      "source": [
        "Qtable_frozenlake = train(n_training_episodes, min_epsilon, max_epsilon, decay_rate, env, max_steps, Qtable_frozenlake)"
      ]
    },
    {
      "cell_type": "markdown",
      "metadata": {
        "id": "yVeEhUCrc30L"
      },
      "source": [
        "## Let's see what our Q-Learning table looks like now 👀"
      ]
    },
    {
      "cell_type": "code",
      "execution_count": 24,
      "metadata": {
        "id": "nmfchsTITw4q"
      },
      "outputs": [
        {
          "data": {
            "text/plain": [
              "array([[0.73509189, 0.77378094, 0.77378094, 0.73509189],\n",
              "       [0.73509189, 0.        , 0.81450625, 0.77378094],\n",
              "       [0.77378094, 0.857375  , 0.77378094, 0.81450625],\n",
              "       [0.81450625, 0.        , 0.77378094, 0.77378094],\n",
              "       [0.77378094, 0.81450625, 0.        , 0.73509189],\n",
              "       [0.        , 0.        , 0.        , 0.        ],\n",
              "       [0.        , 0.9025    , 0.        , 0.81450625],\n",
              "       [0.        , 0.        , 0.        , 0.        ],\n",
              "       [0.81450625, 0.        , 0.857375  , 0.77378094],\n",
              "       [0.81450625, 0.9025    , 0.9025    , 0.        ],\n",
              "       [0.857375  , 0.95      , 0.        , 0.857375  ],\n",
              "       [0.        , 0.        , 0.        , 0.        ],\n",
              "       [0.        , 0.        , 0.        , 0.        ],\n",
              "       [0.        , 0.9025    , 0.95      , 0.857375  ],\n",
              "       [0.9025    , 0.95      , 1.        , 0.9025    ],\n",
              "       [0.        , 0.        , 0.        , 0.        ]])"
            ]
          },
          "execution_count": 24,
          "metadata": {},
          "output_type": "execute_result"
        }
      ],
      "source": [
        "Qtable_frozenlake"
      ]
    },
    {
      "cell_type": "markdown",
      "metadata": {
        "id": "pUrWkxsHccXD"
      },
      "source": [
        "## The evaluation method 📝\n",
        "\n",
        "- We defined the evaluation method that we're going to use to test our Q-Learning agent."
      ]
    },
    {
      "cell_type": "code",
      "execution_count": 25,
      "metadata": {
        "id": "jNl0_JO2cbkm"
      },
      "outputs": [],
      "source": [
        "def evaluate_agent(env, max_steps, n_eval_episodes, Q, seed):\n",
        "  \"\"\"\n",
        "  Evaluate the agent for ``n_eval_episodes`` episodes and returns average reward and std of reward.\n",
        "  :param env: The evaluation environment\n",
        "  :param max_steps: Maximum number of steps per episode\n",
        "  :param n_eval_episodes: Number of episode to evaluate the agent\n",
        "  :param Q: The Q-table\n",
        "  :param seed: The evaluation seed array (for taxi-v3)\n",
        "  \"\"\"\n",
        "  episode_rewards = []\n",
        "  for episode in tqdm(range(n_eval_episodes)):\n",
        "    if seed:\n",
        "      state, info = env.reset(seed=seed[episode])\n",
        "    else:\n",
        "      state, info = env.reset()\n",
        "    step = 0\n",
        "    truncated = False\n",
        "    terminated = False\n",
        "    total_rewards_ep = 0\n",
        "\n",
        "    for step in range(max_steps):\n",
        "      # Take the action (index) that have the maximum expected future reward given that state\n",
        "      action = greedy_policy(Q, state)\n",
        "      new_state, reward, terminated, truncated, info = env.step(action)\n",
        "      total_rewards_ep += reward\n",
        "\n",
        "      if terminated or truncated:\n",
        "        break\n",
        "      state = new_state\n",
        "    episode_rewards.append(total_rewards_ep)\n",
        "  mean_reward = np.mean(episode_rewards)\n",
        "  std_reward = np.std(episode_rewards)\n",
        "\n",
        "  return mean_reward, std_reward"
      ]
    },
    {
      "cell_type": "markdown",
      "metadata": {
        "id": "0jJqjaoAnxUo"
      },
      "source": [
        "## Evaluate our Q-Learning agent 📈\n",
        "\n",
        "- Usually, you should have a mean reward of 1.0\n",
        "- The **environment is relatively easy** since the state space is really small (16). What you can try to do is [to replace it with the slippery version](https://gymnasium.farama.org/environments/toy_text/frozen_lake/), which introduces stochasticity, making the environment more complex."
      ]
    },
    {
      "cell_type": "code",
      "execution_count": 26,
      "metadata": {
        "id": "fAgB7s0HEFMm"
      },
      "outputs": [
        {
          "data": {
            "application/vnd.jupyter.widget-view+json": {
              "model_id": "a5f2e410e9b14834ac9d36ae8d2bbd0b",
              "version_major": 2,
              "version_minor": 0
            },
            "text/plain": [
              "  0%|          | 0/100 [00:00<?, ?it/s]"
            ]
          },
          "metadata": {},
          "output_type": "display_data"
        },
        {
          "name": "stdout",
          "output_type": "stream",
          "text": [
            "Mean_reward=1.00 +/- 0.00\n"
          ]
        }
      ],
      "source": [
        "# Evaluate our Agent\n",
        "mean_reward, std_reward = evaluate_agent(env, max_steps, n_eval_episodes, Qtable_frozenlake, eval_seed)\n",
        "print(f\"Mean_reward={mean_reward:.2f} +/- {std_reward:.2f}\")"
      ]
    },
    {
      "cell_type": "code",
      "execution_count": 30,
      "metadata": {},
      "outputs": [
        {
          "data": {
            "text/html": [
              "<video width=400 controls><source src=\"data:video/mp4;base64,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\" type=\"video/mp4\"></video>"
            ],
            "text/plain": [
              "<IPython.core.display.HTML object>"
            ]
          },
          "execution_count": 30,
          "metadata": {},
          "output_type": "execute_result"
        }
      ],
      "source": [
        "# Este código gera um vídeo mostrando o agente treinado no ambiente FrozenLake.\n",
        "\n",
        "# 1. Importa as bibliotecas necessárias para exibir vídeos no Jupyter Notebook.\n",
        "from IPython.display import HTML\n",
        "from base64 import b64encode\n",
        "\n",
        "# 2. Inicializa a lista de frames e o ambiente.\n",
        "frames = []\n",
        "state, info = env.reset()\n",
        "terminated = False\n",
        "truncated = False\n",
        "\n",
        "# 3. Executa o agente treinado no ambiente, salvando cada frame.\n",
        "for step in range(max_steps):\n",
        "    frames.append(env.render())\n",
        "    action = np.argmax(Qtable_frozenlake[state])  # Seleciona a ação ótima\n",
        "    state, reward, terminated, truncated, info = env.step(action)\n",
        "    if terminated or truncated:\n",
        "        frames.append(env.render())\n",
        "        break\n",
        "\n",
        "# 4. Salva os frames como um vídeo MP4.\n",
        "video_path = \"frozenlake_agent.mp4\"\n",
        "imageio.mimsave(video_path, [np.array(frame) for frame in frames], fps=1)\n",
        "\n",
        "# 5. Exibe o vídeo no notebook.\n",
        "mp4 = open(video_path, 'rb').read()\n",
        "data_url = \"data:video/mp4;base64,\" + b64encode(mp4).decode()\n",
        "HTML(f'<video width=400 controls><source src=\"{data_url}\" type=\"video/mp4\"></video>')"
      ]
    },
    {
      "cell_type": "markdown",
      "metadata": {
        "id": "18lN8Bz7yvLt"
      },
      "source": [
        "# Part 2: Taxi-v3 🚖\n",
        "\n",
        "## Create and understand [Taxi-v3 🚕](https://gymnasium.farama.org/environments/toy_text/taxi/)\n",
        "---\n",
        "\n",
        "💡 A good habit when you start to use an environment is to check its documentation\n",
        "\n",
        "👉 https://gymnasium.farama.org/environments/toy_text/taxi/\n",
        "\n",
        "---\n",
        "\n",
        "In `Taxi-v3` 🚕, there are four designated locations in the grid world indicated by R(ed), G(reen), Y(ellow), and B(lue).\n",
        "\n",
        "When the episode starts, **the taxi starts off at a random square** and the passenger is at a random location. The taxi drives to the passenger’s location, **picks up the passenger**, drives to the passenger’s destination (another one of the four specified locations), and then **drops off the passenger**. Once the passenger is dropped off, the episode ends.\n",
        "\n",
        "\n",
        "<img src=\"https://huggingface.co/datasets/huggingface-deep-rl-course/course-images/resolve/main/en/notebooks/unit2/taxi.png\" alt=\"Taxi\">\n"
      ]
    },
    {
      "cell_type": "code",
      "execution_count": 31,
      "metadata": {
        "id": "gL0wpeO8gpej"
      },
      "outputs": [],
      "source": [
        "env = gym.make(\"Taxi-v3\", render_mode=\"rgb_array\")"
      ]
    },
    {
      "cell_type": "markdown",
      "metadata": {
        "id": "gBOaXgtsrmtT"
      },
      "source": [
        "There are **500 discrete states since there are 25 taxi positions, 5 possible locations of the passenger** (including the case when the passenger is in the taxi), and **4 destination locations.**\n"
      ]
    },
    {
      "cell_type": "code",
      "execution_count": 32,
      "metadata": {
        "id": "_TPNaGSZrgqA"
      },
      "outputs": [
        {
          "name": "stdout",
          "output_type": "stream",
          "text": [
            "There are  500  possible states\n"
          ]
        }
      ],
      "source": [
        "state_space = env.observation_space.n\n",
        "print(\"There are \", state_space, \" possible states\")"
      ]
    },
    {
      "cell_type": "code",
      "execution_count": 33,
      "metadata": {
        "id": "CdeeZuokrhit"
      },
      "outputs": [
        {
          "name": "stdout",
          "output_type": "stream",
          "text": [
            "There are  6  possible actions\n"
          ]
        }
      ],
      "source": [
        "action_space = env.action_space.n\n",
        "print(\"There are \", action_space, \" possible actions\")"
      ]
    },
    {
      "cell_type": "markdown",
      "metadata": {
        "id": "R1r50Advrh5Q"
      },
      "source": [
        "The action space (the set of possible actions the agent can take) is discrete with **6 actions available 🎮**:\n",
        "\n",
        "- 0: move south\n",
        "- 1: move north\n",
        "- 2: move east\n",
        "- 3: move west\n",
        "- 4: pickup passenger\n",
        "- 5: drop off passenger\n",
        "\n",
        "Reward function 💰:\n",
        "\n",
        "- -1 per step unless other reward is triggered.\n",
        "- +20 delivering passenger.\n",
        "- -10 executing “pickup” and “drop-off” actions illegally."
      ]
    },
    {
      "cell_type": "code",
      "execution_count": 34,
      "metadata": {
        "id": "US3yDXnEtY9I"
      },
      "outputs": [
        {
          "name": "stdout",
          "output_type": "stream",
          "text": [
            "[[0. 0. 0. 0. 0. 0.]\n",
            " [0. 0. 0. 0. 0. 0.]\n",
            " [0. 0. 0. 0. 0. 0.]\n",
            " ...\n",
            " [0. 0. 0. 0. 0. 0.]\n",
            " [0. 0. 0. 0. 0. 0.]\n",
            " [0. 0. 0. 0. 0. 0.]]\n",
            "Q-table shape:  (500, 6)\n"
          ]
        }
      ],
      "source": [
        "# Create our Q table with state_size rows and action_size columns (500x6)\n",
        "Qtable_taxi = initialize_q_table(state_space, action_space)\n",
        "print(Qtable_taxi)\n",
        "print(\"Q-table shape: \", Qtable_taxi .shape)"
      ]
    },
    {
      "cell_type": "markdown",
      "metadata": {
        "id": "gUMKPH0_LJyH"
      },
      "source": [
        "## Define the hyperparameters ⚙️\n",
        "\n",
        "⚠ DO NOT MODIFY EVAL_SEED: the eval_seed array **allows us to evaluate your agent with the same taxi starting positions for every classmate**"
      ]
    },
    {
      "cell_type": "code",
      "execution_count": 35,
      "metadata": {
        "id": "AB6n__hhg7YS"
      },
      "outputs": [],
      "source": [
        "# Training parameters\n",
        "n_training_episodes = 25000   # Total training episodes\n",
        "learning_rate = 0.7           # Learning rate\n",
        "\n",
        "# Evaluation parameters\n",
        "n_eval_episodes = 100        # Total number of test episodes\n",
        "\n",
        "# DO NOT MODIFY EVAL_SEED\n",
        "eval_seed = [16,54,165,177,191,191,120,80,149,178,48,38,6,125,174,73,50,172,100,148,146,6,25,40,68,148,49,167,9,97,164,176,61,7,54,55,\n",
        " 161,131,184,51,170,12,120,113,95,126,51,98,36,135,54,82,45,95,89,59,95,124,9,113,58,85,51,134,121,169,105,21,30,11,50,65,12,43,82,145,152,97,106,55,31,85,38,\n",
        " 112,102,168,123,97,21,83,158,26,80,63,5,81,32,11,28,148] # Evaluation seed, this ensures that all classmates agents are trained on the same taxi starting position\n",
        "                                                          # Each seed has a specific starting state\n",
        "\n",
        "# Environment parameters\n",
        "env_id = \"Taxi-v3\"           # Name of the environment\n",
        "max_steps = 99               # Max steps per episode\n",
        "gamma = 0.95                 # Discounting rate\n",
        "\n",
        "# Exploration parameters\n",
        "max_epsilon = 1.0             # Exploration probability at start\n",
        "min_epsilon = 0.05           # Minimum exploration probability\n",
        "decay_rate = 0.005            # Exponential decay rate for exploration prob\n"
      ]
    },
    {
      "cell_type": "markdown",
      "metadata": {
        "id": "1TMORo1VLTsX"
      },
      "source": [
        "## Train our Q-Learning agent 🏃"
      ]
    },
    {
      "cell_type": "code",
      "execution_count": 36,
      "metadata": {
        "id": "WwP3Y2z2eS-K"
      },
      "outputs": [
        {
          "data": {
            "application/vnd.jupyter.widget-view+json": {
              "model_id": "470bb425e7a8471da62d26b2a1600e6b",
              "version_major": 2,
              "version_minor": 0
            },
            "text/plain": [
              "  0%|          | 0/25000 [00:00<?, ?it/s]"
            ]
          },
          "metadata": {},
          "output_type": "display_data"
        },
        {
          "data": {
            "text/plain": [
              "array([[  0.        ,   0.        ,   0.        ,   0.        ,\n",
              "          0.        ,   0.        ],\n",
              "       [  2.75200369,   3.94947756,   2.75200369,   3.94947757,\n",
              "          5.20997639,  -5.05052243],\n",
              "       [  7.93349184,   9.40359827,   7.93349184,   9.40367562,\n",
              "         10.9512375 ,   0.40367562],\n",
              "       ...,\n",
              "       [ -1.74237   ,  -2.43378625,  -1.7178    ,   9.40367562,\n",
              "         -9.1       ,  -9.919     ],\n",
              "       [  1.95058338,   6.53681594,  -5.16284738,  -4.98688716,\n",
              "        -14.12310006, -13.2809808 ],\n",
              "       [ 16.09999999,  14.29497468,  16.1       ,  18.        ,\n",
              "          7.09999999,   7.1       ]])"
            ]
          },
          "execution_count": 36,
          "metadata": {},
          "output_type": "execute_result"
        }
      ],
      "source": [
        "Qtable_taxi = train(n_training_episodes, min_epsilon, max_epsilon, decay_rate, env, max_steps, Qtable_taxi)\n",
        "Qtable_taxi"
      ]
    },
    {
      "cell_type": "code",
      "execution_count": 38,
      "metadata": {},
      "outputs": [
        {
          "name": "stderr",
          "output_type": "stream",
          "text": [
            "IMAGEIO FFMPEG_WRITER WARNING: input image is not divisible by macro_block_size=16, resizing from (550, 350) to (560, 352) to ensure video compatibility with most codecs and players. To prevent resizing, make your input image divisible by the macro_block_size or set the macro_block_size to 1 (risking incompatibility).\n"
          ]
        },
        {
          "data": {
            "text/html": [
              "<video width=400 controls><source src=\"data:video/mp4;base64,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\" type=\"video/mp4\"></video>"
            ],
            "text/plain": [
              "<IPython.core.display.HTML object>"
            ]
          },
          "execution_count": 38,
          "metadata": {},
          "output_type": "execute_result"
        }
      ],
      "source": [
        "# Este código gera um vídeo mostrando o agente treinado no ambiente Taxi-v3.\n",
        "\n",
        "# 1. Importa as bibliotecas necessárias para exibir vídeos no Jupyter Notebook.\n",
        "from IPython.display import HTML\n",
        "from base64 import b64encode\n",
        "\n",
        "# 2. Inicializa a lista de frames e o ambiente.\n",
        "frames = []\n",
        "state, info = env.reset()\n",
        "terminated = False\n",
        "truncated = False\n",
        "\n",
        "# 3. Executa o agente treinado no ambiente, salvando cada frame.\n",
        "for step in range(max_steps):\n",
        "    frames.append(env.render())\n",
        "    action = np.argmax(Qtable_taxi[state])  # Seleciona a ação ótima\n",
        "    state, reward, terminated, truncated, info = env.step(action)\n",
        "    if terminated or truncated:\n",
        "        frames.append(env.render())\n",
        "        break\n",
        "\n",
        "# 4. Salva os frames como um vídeo MP4.\n",
        "video_path = \"taxi_agent.mp4\"\n",
        "imageio.mimsave(video_path, [np.array(frame) for frame in frames], fps=1)\n",
        "\n",
        "# 5. Exibe o vídeo no notebook.\n",
        "mp4 = open(video_path, 'rb').read()\n",
        "data_url = \"data:video/mp4;base64,\" + b64encode(mp4).decode()\n",
        "HTML(f'<video width=400 controls><source src=\"{data_url}\" type=\"video/mp4\"></video>')"
      ]
    },
    {
      "cell_type": "markdown",
      "metadata": {
        "id": "BQAwLnYFPk-s"
      },
      "source": [
        "## Some additional challenges 🏆\n",
        "\n",
        "The best way to learn **is to try things on your own**! As you saw, the current agent is not doing great. As a first suggestion, you can train for more steps. With 1,000,000 steps, we saw some great results!\n",
        "\n",
        "In the [Leaderboard](https://huggingface.co/spaces/huggingface-projects/Deep-Reinforcement-Learning-Leaderboard) you will find your agents. Can you get to the top?\n",
        "\n",
        "Here are some ideas to climb up the leaderboard:\n",
        "\n",
        "* Train more steps\n",
        "* Try different hyperparameters by looking at what your classmates have done.\n",
        "* **Push your new trained model** on the Hub 🔥\n",
        "\n",
        "Are walking on ice and driving taxis too boring to you? Try to **change the environment**, why not use FrozenLake-v1 slippery version? Check how they work [using the gymnasium documentation](https://gymnasium.farama.org/) and have fun 🎉."
      ]
    },
    {
      "cell_type": "markdown",
      "metadata": {
        "id": "p-fW-EU5WejJ"
      },
      "source": [
        "_____________________________________________________________________\n",
        "Congrats 🥳, you've just implemented, trained, and uploaded your first Reinforcement Learning agent.\n",
        "\n",
        "Understanding Q-Learning is an **important step to understanding value-based methods.**\n",
        "\n",
        "In the next Unit with Deep Q-Learning, we'll see that while creating and updating a Q-table was a good strategy — **however, it is not scalable.**\n",
        "\n",
        "For instance, imagine you create an agent that learns to play Doom.\n",
        "\n",
        "<img src=\"https://vizdoom.cs.put.edu.pl/user/pages/01.tutorial/basic.png\" alt=\"Doom\"/>\n",
        "\n",
        "Doom is a large environment with a huge state space (millions of different states). Creating and updating a Q-table for that environment would not be efficient.\n",
        "\n",
        "That's why we'll study Deep Q-Learning in the next unit, an algorithm **where we use a neural network that approximates, given a state, the different Q-values for each action.**\n",
        "\n",
        "<img src=\"https://huggingface.co/datasets/huggingface-deep-rl-course/course-images/resolve/main/en/unit4/atari-envs.gif\" alt=\"Environments\"/>\n"
      ]
    },
    {
      "cell_type": "markdown",
      "metadata": {
        "id": "BjLhT70TEZIn"
      },
      "source": [
        "See you in Unit 3! 🔥\n",
        "\n",
        "## Keep learning, stay awesome 🤗"
      ]
    }
  ],
  "metadata": {
    "colab": {
      "collapsed_sections": [
        "67OdoKL63eDD",
        "B2_-8b8z5k54",
        "8R5ej1fS4P2V",
        "Pnpk2ePoem3r"
      ],
      "include_colab_link": true,
      "private_outputs": true,
      "provenance": []
    },
    "gpuClass": "standard",
    "kernelspec": {
      "display_name": "dnn-25.1",
      "language": "python",
      "name": "python3"
    },
    "language_info": {
      "codemirror_mode": {
        "name": "ipython",
        "version": 3
      },
      "file_extension": ".py",
      "mimetype": "text/x-python",
      "name": "python",
      "nbconvert_exporter": "python",
      "pygments_lexer": "ipython3",
      "version": "3.12.7"
    }
  },
  "nbformat": 4,
  "nbformat_minor": 0
}
